{
 "cells": [
  {
   "cell_type": "code",
   "execution_count": 1,
   "id": "8fc1d38a",
   "metadata": {},
   "outputs": [],
   "source": [
    "from ann import Network \n",
    "from data.load_data import load_mnist\n",
    "%load_ext autoreload \n",
    "%autoreload 2 "
   ]
  },
  {
   "cell_type": "markdown",
   "id": "db96fdf6",
   "metadata": {},
   "source": []
  },
  {
   "cell_type": "code",
   "execution_count": 2,
   "id": "5287c23a",
   "metadata": {},
   "outputs": [
    {
     "name": "stderr",
     "output_type": "stream",
     "text": [
      "/home/moxitron/myFiles/MNIST/data/load_data.py:66: VisibleDeprecationWarning: Creating an ndarray from ragged nested sequences (which is a list-or-tuple of lists-or-tuples-or ndarrays with different lengths or shapes) is deprecated. If you meant to do this, you must specify 'dtype=object' when creating the ndarray.\n",
      "  train_data = np.array(list(zip(train_images , vec_train_labels)))\n",
      "/home/moxitron/myFiles/MNIST/data/load_data.py:67: VisibleDeprecationWarning: Creating an ndarray from ragged nested sequences (which is a list-or-tuple of lists-or-tuples-or ndarrays with different lengths or shapes) is deprecated. If you meant to do this, you must specify 'dtype=object' when creating the ndarray.\n",
      "  test_data = np.array(list(zip(test_images , test_labels)))\n"
     ]
    }
   ],
   "source": [
    "train , test = load_mnist() "
   ]
  },
  {
   "cell_type": "code",
   "execution_count": 3,
   "id": "b80d8562",
   "metadata": {},
   "outputs": [],
   "source": [
    "network = Network([784 , 20,  10])  \n",
    "network.SGD(train , 30 , 10 , 0.001 ,test_data=test)"
   ]
  },
  {
   "cell_type": "code",
   "execution_count": null,
   "id": "df478ab1",
   "metadata": {},
   "outputs": [],
   "source": []
  }
 ],
 "metadata": {
  "kernelspec": {
   "display_name": "Python 3 (ipykernel)",
   "language": "python",
   "name": "python3"
  },
  "language_info": {
   "codemirror_mode": {
    "name": "ipython",
    "version": 3
   },
   "file_extension": ".py",
   "mimetype": "text/x-python",
   "name": "python",
   "nbconvert_exporter": "python",
   "pygments_lexer": "ipython3",
   "version": "3.8.10"
  }
 },
 "nbformat": 4,
 "nbformat_minor": 5
}
