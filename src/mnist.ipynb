{
 "cells": [
  {
   "cell_type": "code",
   "execution_count": 1,
   "id": "8fc1d38a",
   "metadata": {},
   "outputs": [],
   "source": [
    "from ann import Network \n",
    "from load_data import load_mnist"
   ]
  },
  {
   "cell_type": "markdown",
   "id": "db96fdf6",
   "metadata": {},
   "source": []
  },
  {
   "cell_type": "code",
   "execution_count": 2,
   "id": "5287c23a",
   "metadata": {},
   "outputs": [],
   "source": [
    "train , test = load_mnist() "
   ]
  },
  {
   "cell_type": "markdown",
   "id": "698d78d2",
   "metadata": {},
   "source": [
    "Every pixel has a value in 0-256. Here we divided each pixel value by 256 to get the values in 0-1 interval.\n",
    "This is critical. I couldn't get passed 85% without doing this. The reason is that the higher the activation values are the easier neuron saturates. Hence the training because harder. "
   ]
  },
  {
   "cell_type": "code",
   "execution_count": 3,
   "id": "b80d8562",
   "metadata": {},
   "outputs": [
    {
     "name": "stdout",
     "output_type": "stream",
     "text": [
      "epoch: 0  -> 8337 / 10000\n",
      "epoch: 1  -> 8543 / 10000\n",
      "epoch: 2  -> 9106 / 10000\n",
      "epoch: 3  -> 9338 / 10000\n",
      "epoch: 4  -> 9370 / 10000\n",
      "epoch: 5  -> 9418 / 10000\n",
      "epoch: 6  -> 9384 / 10000\n",
      "epoch: 7  -> 9446 / 10000\n",
      "epoch: 8  -> 9450 / 10000\n",
      "epoch: 9  -> 9458 / 10000\n",
      "epoch: 10 -> 9470 / 10000\n",
      "epoch: 11 -> 9470 / 10000\n",
      "epoch: 12 -> 9448 / 10000\n",
      "epoch: 13 -> 9442 / 10000\n",
      "epoch: 14 -> 9492 / 10000\n",
      "epoch: 15 -> 9463 / 10000\n",
      "epoch: 16 -> 9466 / 10000\n",
      "epoch: 17 -> 9497 / 10000\n",
      "epoch: 18 -> 9489 / 10000\n",
      "epoch: 19 -> 9490 / 10000\n",
      "epoch: 20 -> 9496 / 10000\n",
      "epoch: 21 -> 9474 / 10000\n",
      "epoch: 22 -> 9498 / 10000\n",
      "epoch: 23 -> 9506 / 10000\n",
      "epoch: 24 -> 9521 / 10000\n",
      "epoch: 25 -> 9509 / 10000\n",
      "epoch: 26 -> 9506 / 10000\n",
      "epoch: 27 -> 9505 / 10000\n",
      "epoch: 28 -> 9490 / 10000\n",
      "epoch: 29 -> 9508 / 10000"
     ]
    }
   ],
   "source": [
    "network = Network([784 , 30,  10])  \n",
    "network.SGD(train , 30 , 10 , 0.1 ,test_data=test)"
   ]
  }
 ],
 "metadata": {
  "kernelspec": {
   "display_name": "Python 3 (ipykernel)",
   "language": "python",
   "name": "python3"
  },
  "language_info": {
   "codemirror_mode": {
    "name": "ipython",
    "version": 3
   },
   "file_extension": ".py",
   "mimetype": "text/x-python",
   "name": "python",
   "nbconvert_exporter": "python",
   "pygments_lexer": "ipython3",
   "version": "3.8.10"
  }
 },
 "nbformat": 4,
 "nbformat_minor": 5
}
