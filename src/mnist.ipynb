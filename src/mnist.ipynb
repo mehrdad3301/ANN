{
 "cells": [
  {
   "cell_type": "code",
   "execution_count": 1,
   "id": "8fc1d38a",
   "metadata": {},
   "outputs": [],
   "source": [
    "from ann import Network \n",
    "from load_data import load_mnist\n",
    "from utils import normalize "
   ]
  },
  {
   "cell_type": "markdown",
   "id": "db96fdf6",
   "metadata": {},
   "source": []
  },
  {
   "cell_type": "code",
   "execution_count": 2,
   "id": "5287c23a",
   "metadata": {},
   "outputs": [],
   "source": [
    "train , test = load_mnist() "
   ]
  },
  {
   "cell_type": "markdown",
   "id": "698d78d2",
   "metadata": {},
   "source": [
    "Every pixel has a value in 0-256. Here we divided each pixel value by 256 to get the values in 0-1 interval.\n",
    "This is critical. I couldn't get passed 85% without doing this. The reason is that the higher the activation values are the easier a neuron saturates. Hence the training becomes harder. This might look trivial, It wasn't obvious to me at first. "
   ]
  },
  {
   "cell_type": "code",
   "execution_count": null,
   "id": "80ad3bf1",
   "metadata": {},
   "outputs": [],
   "source": [
    "train , test = normalize(train) , normalize(test) "
   ]
  },
  {
   "cell_type": "code",
   "execution_count": null,
   "id": "b80d8562",
   "metadata": {},
   "outputs": [],
   "source": [
    "net = Network([784 , 100 ,10]) \n",
    "results = \\\n",
    "net.SGD(\n",
    "    train ,\n",
    "    epochs=30 ,\n",
    "    lambda_=0.5,\n",
    "    eta=0.1,\n",
    "    test=test,\n",
    "    monitor_training_cost=True,\n",
    "    monitor_training_accuracy=True,\n",
    "    monitor_test_cost=True,\n",
    "    monitor_test_accuracy=True,\n",
    ")"
   ]
  },
  {
   "cell_type": "markdown",
   "id": "28d00795",
   "metadata": {},
   "source": [
    "You can run the code with smaller hidden layer size for faster results. I used 100 to break 98% barrier. Even then it needed a lot of tuning to get there. Alternatively use net.load method to load 9804.json."
   ]
  },
  {
   "cell_type": "code",
   "execution_count": null,
   "id": "ef13b898",
   "metadata": {},
   "outputs": [],
   "source": []
  }
 ],
 "metadata": {
  "kernelspec": {
   "display_name": "Python 3 (ipykernel)",
   "language": "python",
   "name": "python3"
  },
  "language_info": {
   "codemirror_mode": {
    "name": "ipython",
    "version": 3
   },
   "file_extension": ".py",
   "mimetype": "text/x-python",
   "name": "python",
   "nbconvert_exporter": "python",
   "pygments_lexer": "ipython3",
   "version": "3.8.10"
  }
 },
 "nbformat": 4,
 "nbformat_minor": 5
}
